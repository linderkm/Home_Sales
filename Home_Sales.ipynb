{
  "cells": [
    {
      "cell_type": "code",
      "execution_count": 85,
      "metadata": {
        "colab": {
          "base_uri": "https://localhost:8080/"
        },
        "id": "a_KW73O2e3dw",
        "outputId": "d5b5fc4b-e101-4314-bfc8-f04dc8eb83b6"
      },
      "outputs": [
        {
          "output_type": "stream",
          "name": "stdout",
          "text": [
            "\r0% [Working]\r            \rHit:1 http://security.ubuntu.com/ubuntu jammy-security InRelease\n",
            "\r0% [Waiting for headers] [Connected to cloud.r-project.org (65.9.86.109)] [Connecting to r2u.stat.il\r                                                                                                    \rHit:2 http://archive.ubuntu.com/ubuntu jammy InRelease\n",
            "\r                                                                                                    \rHit:3 http://archive.ubuntu.com/ubuntu jammy-updates InRelease\n",
            "\r                                                                                                    \rHit:4 http://archive.ubuntu.com/ubuntu jammy-backports InRelease\n",
            "\r0% [Connected to cloud.r-project.org (65.9.86.109)] [Connecting to r2u.stat.illinois.edu] [Connected\r                                                                                                    \rHit:5 https://developer.download.nvidia.com/compute/cuda/repos/ubuntu2204/x86_64  InRelease\n",
            "\r0% [Connected to cloud.r-project.org (65.9.86.109)] [Connecting to r2u.stat.illinois.edu] [Connected\r                                                                                                    \rHit:6 https://cloud.r-project.org/bin/linux/ubuntu jammy-cran40/ InRelease\n",
            "\r                                                                                                    \r0% [Connecting to r2u.stat.illinois.edu] [Waiting for headers]\r                                                              \rHit:7 https://ppa.launchpadcontent.net/deadsnakes/ppa/ubuntu jammy InRelease\n",
            "\r0% [Connecting to r2u.stat.illinois.edu (192.17.190.167)] [Waiting for headers]\r                                                                               \rHit:8 https://ppa.launchpadcontent.net/graphics-drivers/ppa/ubuntu jammy InRelease\n",
            "Hit:9 https://ppa.launchpadcontent.net/ubuntugis/ppa/ubuntu jammy InRelease\n",
            "Get:10 https://r2u.stat.illinois.edu/ubuntu jammy InRelease [6,555 B]\n",
            "Fetched 6,555 B in 1s (4,894 B/s)\n",
            "Reading package lists... Done\n",
            "W: Skipping acquire of configured file 'main/source/Sources' as repository 'https://r2u.stat.illinois.edu/ubuntu jammy InRelease' does not seem to provide it (sources.list entry misspelt?)\n"
          ]
        }
      ],
      "source": [
        "import os\n",
        "import time\n",
        "\n",
        "spark_version = 'spark-3.5.4'\n",
        "os.environ['SPARK_VERSION']=spark_version\n",
        "\n",
        "# Install Spark and Java\n",
        "!apt-get update\n",
        "!apt-get install openjdk-11-jdk-headless -qq > /dev/null\n",
        "!wget -q http://www.apache.org/dist/spark/$SPARK_VERSION/$SPARK_VERSION-bin-hadoop3.tgz\n",
        "!tar xf $SPARK_VERSION-bin-hadoop3.tgz\n",
        "!pip install -q findspark\n",
        "\n",
        "# Set Environment Variables\n",
        "os.environ[\"JAVA_HOME\"] = \"/usr/lib/jvm/java-11-openjdk-amd64\"\n",
        "os.environ[\"SPARK_HOME\"] = f\"/content/{spark_version}-bin-hadoop3\"\n",
        "\n",
        "# Start a SparkSession\n",
        "import findspark\n",
        "findspark.init()"
      ]
    },
    {
      "cell_type": "code",
      "execution_count": 86,
      "metadata": {
        "id": "2XbWNf1Te5fM"
      },
      "outputs": [],
      "source": [
        "# Import packages\n",
        "from pyspark.sql import SparkSession\n",
        "\n",
        "# Create a SparkSession\n",
        "spark = SparkSession.builder.appName(\"SparkSQL\").getOrCreate()"
      ]
    },
    {
      "cell_type": "code",
      "execution_count": 87,
      "metadata": {
        "id": "wOJqxG_RPSwp"
      },
      "outputs": [],
      "source": [
        "# 1. Read the home_sales_revised.csv from the provided AWS S3 bucket location into a PySpark DataFrame.\n",
        "# (1)\n",
        "from pyspark import SparkFiles\n",
        "url = \"https://2u-data-curriculum-team.s3.amazonaws.com/dataviz-classroom/v1.2/22-big-data/home_sales_revised.csv\"\n",
        "spark.sparkContext.addFile(url)\n",
        "\n",
        "df = spark.read.csv(SparkFiles.get('home_sales_revised.csv'), sep=',', header=True)"
      ]
    },
    {
      "cell_type": "code",
      "source": [
        "df.show(1)"
      ],
      "metadata": {
        "colab": {
          "base_uri": "https://localhost:8080/"
        },
        "id": "Hr7QgtNWtzsj",
        "outputId": "ca9e2937-a56a-4b62-d1a6-d7909e717fb4"
      },
      "execution_count": 88,
      "outputs": [
        {
          "output_type": "stream",
          "name": "stdout",
          "text": [
            "+--------------------+----------+----------+------+--------+---------+-----------+--------+------+----------+----+\n",
            "|                  id|      date|date_built| price|bedrooms|bathrooms|sqft_living|sqft_lot|floors|waterfront|view|\n",
            "+--------------------+----------+----------+------+--------+---------+-----------+--------+------+----------+----+\n",
            "|f8a53099-ba1c-47d...|2022-04-08|      2016|936923|       4|        3|       3167|   11733|     2|         1|  76|\n",
            "+--------------------+----------+----------+------+--------+---------+-----------+--------+------+----------+----+\n",
            "only showing top 1 row\n",
            "\n"
          ]
        }
      ]
    },
    {
      "cell_type": "code",
      "source": [
        "#creating unique column with year value, isolated from 'date' column in original df\n",
        "# (2)\n",
        "from pyspark.sql.functions import year\n",
        "\n",
        "df = df.withColumn(\"sale_year\", year(df['date']))\n",
        "\n",
        "df.show(1)"
      ],
      "metadata": {
        "colab": {
          "base_uri": "https://localhost:8080/"
        },
        "id": "hLe3kySQuPqp",
        "outputId": "9b905ddb-c982-482e-eed2-8c1169e12cf4"
      },
      "execution_count": 89,
      "outputs": [
        {
          "output_type": "stream",
          "name": "stdout",
          "text": [
            "+--------------------+----------+----------+------+--------+---------+-----------+--------+------+----------+----+---------+\n",
            "|                  id|      date|date_built| price|bedrooms|bathrooms|sqft_living|sqft_lot|floors|waterfront|view|sale_year|\n",
            "+--------------------+----------+----------+------+--------+---------+-----------+--------+------+----------+----+---------+\n",
            "|f8a53099-ba1c-47d...|2022-04-08|      2016|936923|       4|        3|       3167|   11733|     2|         1|  76|     2022|\n",
            "+--------------------+----------+----------+------+--------+---------+-----------+--------+------+----------+----+---------+\n",
            "only showing top 1 row\n",
            "\n"
          ]
        }
      ]
    },
    {
      "cell_type": "code",
      "source": [
        "# 2. Create a temporary view of the DataFrame.\n",
        "# (3)\n",
        "df.createOrReplaceTempView('df_temp_view')"
      ],
      "metadata": {
        "id": "v1kShK_VvLAO"
      },
      "execution_count": 90,
      "outputs": []
    },
    {
      "cell_type": "code",
      "execution_count": 91,
      "metadata": {
        "id": "L6fkwOeOmqvq",
        "colab": {
          "base_uri": "https://localhost:8080/"
        },
        "outputId": "34f99e1e-e2d9-4105-b532-f06f53bc6aa1"
      },
      "outputs": [
        {
          "output_type": "stream",
          "name": "stdout",
          "text": [
            "+---------+---------+\n",
            "|Sale_Year|AVG_Price|\n",
            "+---------+---------+\n",
            "|     2019| 300263.7|\n",
            "|     2020|298353.78|\n",
            "|     2021|301819.44|\n",
            "|     2022|296363.88|\n",
            "+---------+---------+\n",
            "\n"
          ]
        }
      ],
      "source": [
        "# 3. What is the average price for a four bedroom house sold per year, rounded to two decimal places?\n",
        "# (3)\n",
        "query1 = \"\"\"\n",
        "WITH t1 AS(\n",
        "  SELECT sale_year, price\n",
        "  FROM df_temp_view\n",
        "  WHERE bedrooms = 4\n",
        ")\n",
        "SELECT sale_year AS Sale_Year, ROUND(AVG(price),2) AS AVG_Price\n",
        "FROM t1\n",
        "GROUP BY sale_year\n",
        "ORDER BY sale_year asc;\n",
        "\"\"\"\n",
        "\n",
        "spark.sql(query1).show()"
      ]
    },
    {
      "cell_type": "code",
      "execution_count": 92,
      "metadata": {
        "id": "l8p_tUS8h8it",
        "colab": {
          "base_uri": "https://localhost:8080/"
        },
        "outputId": "a343a272-0568-4b7a-be11-f00a66bf3b77"
      },
      "outputs": [
        {
          "output_type": "stream",
          "name": "stdout",
          "text": [
            "+----------+---------+\n",
            "|Year_Built|AVG_Price|\n",
            "+----------+---------+\n",
            "|      2010|292859.62|\n",
            "|      2011|291117.47|\n",
            "|      2012|293683.19|\n",
            "|      2013|295962.27|\n",
            "|      2014|290852.27|\n",
            "|      2015| 288770.3|\n",
            "|      2016|290555.07|\n",
            "|      2017|292676.79|\n",
            "+----------+---------+\n",
            "\n"
          ]
        }
      ],
      "source": [
        "# 4. What is the average price of a home for each year the home was built, that have 3 bedrooms and 3 bathrooms, rounded to two decimal places?\n",
        "# (3)\n",
        "query2 = \"\"\"\n",
        "WITH t1 AS(\n",
        "  SELECT date_built, price\n",
        "  FROM df_temp_view\n",
        "  WHERE bedrooms = 3 AND bathrooms = 3\n",
        ")\n",
        "SELECT date_built AS Year_Built, ROUND(AVG(price),2) AS AVG_Price\n",
        "FROM t1\n",
        "GROUP BY date_built\n",
        "ORDER BY date_built asc;\n",
        "\"\"\"\n",
        "\n",
        "spark.sql(query2).show()"
      ]
    },
    {
      "cell_type": "markdown",
      "source": [],
      "metadata": {
        "id": "coRC4n_qvcT4"
      }
    },
    {
      "cell_type": "code",
      "execution_count": 93,
      "metadata": {
        "id": "Y-Eytz64liDU",
        "colab": {
          "base_uri": "https://localhost:8080/"
        },
        "outputId": "94f83dff-376b-4951-88b9-3686a7169249"
      },
      "outputs": [
        {
          "output_type": "stream",
          "name": "stdout",
          "text": [
            "+----------+---------+\n",
            "|Year_Built|AVG_Price|\n",
            "+----------+---------+\n",
            "|      2010|285010.22|\n",
            "|      2011|276553.81|\n",
            "|      2012|307539.97|\n",
            "|      2013|303676.79|\n",
            "|      2014|298264.72|\n",
            "|      2015|297609.97|\n",
            "|      2016| 293965.1|\n",
            "|      2017|280317.58|\n",
            "+----------+---------+\n",
            "\n"
          ]
        }
      ],
      "source": [
        "# 5. What is the average price of a home for each year the home was built,\n",
        "# that have 3 bedrooms, 3 bathrooms,\n",
        "# with two floors,\n",
        "# and are greater than or equal to 2,000 square feet, rounded to two decimal places?\n",
        "query3 = \"\"\"\n",
        "WITH t1 AS(\n",
        "  SELECT date_built, price\n",
        "  FROM df_temp_view\n",
        "  WHERE bedrooms = 3 AND bathrooms = 3 AND floors = 2 AND sqft_living >= 2000\n",
        ")\n",
        "SELECT date_built AS Year_Built, ROUND(AVG(price),2) AS AVG_Price\n",
        "FROM t1\n",
        "GROUP BY date_built\n",
        "ORDER BY date_built asc;\n",
        "\"\"\"\n",
        "\n",
        "spark.sql(query3).show()"
      ]
    },
    {
      "cell_type": "code",
      "execution_count": 94,
      "metadata": {
        "colab": {
          "base_uri": "https://localhost:8080/"
        },
        "id": "GUrfgOX1pCRd",
        "outputId": "35e08df7-2f65-4ea1-e8ea-8b3b1208cc1e"
      },
      "outputs": [
        {
          "output_type": "stream",
          "name": "stdout",
          "text": [
            "+-----+----------+\n",
            "|Views| AVG_Price|\n",
            "+-----+----------+\n",
            "|   99|1061201.42|\n",
            "|   98|1053739.33|\n",
            "|   97|1129040.15|\n",
            "|   96|1017815.92|\n",
            "|   95| 1054325.6|\n",
            "|   94| 1033536.2|\n",
            "|   93|1026006.06|\n",
            "|   92| 970402.55|\n",
            "|   91|1137372.73|\n",
            "|   90|1062654.16|\n",
            "|    9| 401393.34|\n",
            "|   89|1107839.15|\n",
            "|   88|1031719.35|\n",
            "|   87| 1072285.2|\n",
            "|   86|1070444.25|\n",
            "|   85|1056336.74|\n",
            "|   84|1117233.13|\n",
            "|   83|1033965.93|\n",
            "|   82| 1063498.0|\n",
            "|   81|1053472.79|\n",
            "+-----+----------+\n",
            "only showing top 20 rows\n",
            "\n",
            "--- 0.9418189525604248 seconds ---\n"
          ]
        }
      ],
      "source": [
        "# 6. What is the average price of a home per \"view\" rating, rounded to two decimal places,\n",
        "# having an average home price greater than or equal to $350,000? Order by descending view rating.\n",
        "# Although this is a small dataset, determine the run time for this query.\n",
        "\n",
        "start_time = time.time()\n",
        "\n",
        "query4 = \"\"\"\n",
        "with t1 AS (\n",
        "  SELECT view, price\n",
        "  FROM df_temp_view\n",
        "  WHERE price >= 350000\n",
        ")\n",
        "SELECT view as Views, ROUND(AVG(price),2) AS AVG_Price\n",
        "FROM t1\n",
        "GROUP BY view\n",
        "ORDER BY view desc;\n",
        "\"\"\"\n",
        "\n",
        "spark.sql(query4).show()\n",
        "\n",
        "print(\"--- %s seconds ---\" % (time.time() - start_time))"
      ]
    },
    {
      "cell_type": "code",
      "execution_count": 95,
      "metadata": {
        "id": "KAhk3ZD2tFy8",
        "colab": {
          "base_uri": "https://localhost:8080/"
        },
        "outputId": "9d5a4a33-8669-4d97-9f90-a68e576e1722"
      },
      "outputs": [
        {
          "output_type": "execute_result",
          "data": {
            "text/plain": [
              "DataFrame[]"
            ]
          },
          "metadata": {},
          "execution_count": 95
        }
      ],
      "source": [
        "# 7. Cache the the temporary table home_sales.\n",
        "# (3)\n",
        "spark.sql(\"cache table df_temp_view\")"
      ]
    },
    {
      "cell_type": "code",
      "execution_count": 96,
      "metadata": {
        "id": "4opVhbvxtL-i",
        "colab": {
          "base_uri": "https://localhost:8080/"
        },
        "outputId": "fdf2e903-3f0e-46e0-cb8d-abde2cd04c63"
      },
      "outputs": [
        {
          "output_type": "execute_result",
          "data": {
            "text/plain": [
              "True"
            ]
          },
          "metadata": {},
          "execution_count": 96
        }
      ],
      "source": [
        "# 8. Check if the table is cached.\n",
        "spark.catalog.isCached('df_temp_view')"
      ]
    },
    {
      "cell_type": "code",
      "execution_count": 97,
      "metadata": {
        "colab": {
          "base_uri": "https://localhost:8080/"
        },
        "id": "5GnL46lwTSEk",
        "outputId": "d5ab1b85-7294-4d9e-b684-403b1e55aacf"
      },
      "outputs": [
        {
          "output_type": "stream",
          "name": "stdout",
          "text": [
            "+-----+----------+\n",
            "|Views| AVG_Price|\n",
            "+-----+----------+\n",
            "|   99|1061201.42|\n",
            "|   98|1053739.33|\n",
            "|   97|1129040.15|\n",
            "|   96|1017815.92|\n",
            "|   95| 1054325.6|\n",
            "|   94| 1033536.2|\n",
            "|   93|1026006.06|\n",
            "|   92| 970402.55|\n",
            "|   91|1137372.73|\n",
            "|   90|1062654.16|\n",
            "|    9| 401393.34|\n",
            "|   89|1107839.15|\n",
            "|   88|1031719.35|\n",
            "|   87| 1072285.2|\n",
            "|   86|1070444.25|\n",
            "|   85|1056336.74|\n",
            "|   84|1117233.13|\n",
            "|   83|1033965.93|\n",
            "|   82| 1063498.0|\n",
            "|   81|1053472.79|\n",
            "+-----+----------+\n",
            "only showing top 20 rows\n",
            "\n",
            "--- 0.9367773532867432 seconds ---\n"
          ]
        }
      ],
      "source": [
        "# 9. Using the cached data, run the last query above, that calculates\n",
        "# the average price of a home per \"view\" rating, rounded to two decimal places,\n",
        "# having an average home price greater than or equal to $350,000.\n",
        "# Determine the runtime and compare it to the uncached runtime.\n",
        "\n",
        "start_time = time.time()\n",
        "\n",
        "query5 = \"\"\"\n",
        "with t1 AS (\n",
        "  SELECT view, price\n",
        "  FROM df_temp_view\n",
        "  WHERE price >= 350000\n",
        ")\n",
        "SELECT view as Views, ROUND(AVG(price),2) AS AVG_Price\n",
        "FROM t1\n",
        "GROUP BY view\n",
        "ORDER BY view desc;\n",
        "\"\"\"\n",
        "\n",
        "spark.sql(query5).show()\n",
        "\n",
        "\n",
        "\n",
        "print(\"--- %s seconds ---\" % (time.time() - start_time))\n"
      ]
    },
    {
      "cell_type": "code",
      "execution_count": 98,
      "metadata": {
        "id": "Qm12WN9isHBR"
      },
      "outputs": [],
      "source": [
        "# 10. Partition by the \"date_built\" field on the formatted parquet home sales data\n",
        "# (2)\n",
        "df.write.partitionBy(\"date_built\").mode(\"overwrite\").parquet('date_built_partitioned_parquet')\n"
      ]
    },
    {
      "cell_type": "code",
      "execution_count": 99,
      "metadata": {
        "id": "AZ7BgY61sRqY"
      },
      "outputs": [],
      "source": [
        "# 11. Read the parquet formatted data.\n",
        "# (2)\n",
        "partitioned_parquet_df = spark.read.parquet('date_built_partitioned_parquet')"
      ]
    },
    {
      "cell_type": "code",
      "execution_count": 100,
      "metadata": {
        "id": "J6MJkHfvVcvh"
      },
      "outputs": [],
      "source": [
        "# 12. Create a temporary table for the parquet data.\n",
        "partitioned_parquet_df.createOrReplaceTempView('pqd_tempView')"
      ]
    },
    {
      "cell_type": "code",
      "execution_count": 101,
      "metadata": {
        "colab": {
          "base_uri": "https://localhost:8080/"
        },
        "id": "G_Vhb52rU1Sn",
        "outputId": "4c0edda2-fda1-4178-ec70-91237c5e8d5b"
      },
      "outputs": [
        {
          "output_type": "stream",
          "name": "stdout",
          "text": [
            "+-----+----------+\n",
            "|Views| AVG_Price|\n",
            "+-----+----------+\n",
            "|   99|1061201.42|\n",
            "|   98|1053739.33|\n",
            "|   97|1129040.15|\n",
            "|   96|1017815.92|\n",
            "|   95| 1054325.6|\n",
            "|   94| 1033536.2|\n",
            "|   93|1026006.06|\n",
            "|   92| 970402.55|\n",
            "|   91|1137372.73|\n",
            "|   90|1062654.16|\n",
            "|    9| 401393.34|\n",
            "|   89|1107839.15|\n",
            "|   88|1031719.35|\n",
            "|   87| 1072285.2|\n",
            "|   86|1070444.25|\n",
            "|   85|1056336.74|\n",
            "|   84|1117233.13|\n",
            "|   83|1033965.93|\n",
            "|   82| 1063498.0|\n",
            "|   81|1053472.79|\n",
            "+-----+----------+\n",
            "only showing top 20 rows\n",
            "\n",
            "--- 0.9123907089233398 seconds ---\n"
          ]
        }
      ],
      "source": [
        "# 13. Using the parquet DataFrame, run the last query above, that calculates\n",
        "# the average price of a home per \"view\" rating, rounded to two decimal places,\n",
        "# having an average home price greater than or equal to $350,000.\n",
        "# Determine the runtime and compare it to the cached runtime.\n",
        "\n",
        "start_time = time.time()\n",
        "\n",
        "query6 = \"\"\"\n",
        "with t1 AS (\n",
        "  SELECT view, price\n",
        "  FROM pqd_tempView\n",
        "  WHERE price >= 350000\n",
        ")\n",
        "SELECT view as Views, ROUND(AVG(price),2) AS AVG_Price\n",
        "FROM t1\n",
        "GROUP BY view\n",
        "ORDER BY view desc;\n",
        "\"\"\"\n",
        "\n",
        "spark.sql(query6).show()\n",
        "\n",
        "\n",
        "print(\"--- %s seconds ---\" % (time.time() - start_time))"
      ]
    },
    {
      "cell_type": "code",
      "execution_count": 102,
      "metadata": {
        "id": "hjjYzQGjtbq8",
        "colab": {
          "base_uri": "https://localhost:8080/"
        },
        "outputId": "9a541910-d8db-4049-f21f-bb6efcc6e9e6"
      },
      "outputs": [
        {
          "output_type": "execute_result",
          "data": {
            "text/plain": [
              "DataFrame[]"
            ]
          },
          "metadata": {},
          "execution_count": 102
        }
      ],
      "source": [
        "# 14. Uncache the home_sales temporary table.\n",
        "# (3)\n",
        "spark.sql(\"uncache table df_temp_view\")"
      ]
    },
    {
      "cell_type": "code",
      "execution_count": 103,
      "metadata": {
        "id": "Sy9NBvO7tlmm",
        "colab": {
          "base_uri": "https://localhost:8080/"
        },
        "outputId": "ab608369-ad7f-419a-963d-bae466f03968"
      },
      "outputs": [
        {
          "output_type": "execute_result",
          "data": {
            "text/plain": [
              "False"
            ]
          },
          "metadata": {},
          "execution_count": 103
        }
      ],
      "source": [
        "# 15. Check if the home_sales is no longer cached\n",
        "# (3)\n",
        "spark.catalog.isCached('df_temp_view')"
      ]
    }
  ],
  "metadata": {
    "colab": {
      "provenance": []
    },
    "gpuClass": "standard",
    "kernelspec": {
      "display_name": "Python 3 (ipykernel)",
      "language": "python",
      "name": "python3"
    },
    "language_info": {
      "codemirror_mode": {
        "name": "ipython",
        "version": 3
      },
      "file_extension": ".py",
      "mimetype": "text/x-python",
      "name": "python",
      "nbconvert_exporter": "python",
      "pygments_lexer": "ipython3",
      "version": "3.12.7"
    },
    "nteract": {
      "version": "0.28.0"
    }
  },
  "nbformat": 4,
  "nbformat_minor": 0
}